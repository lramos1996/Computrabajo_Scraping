{
 "cells": [
  {
   "cell_type": "code",
   "execution_count": 122,
   "metadata": {},
   "outputs": [],
   "source": [
    "#Importando librerias necesarias\n",
    "from datetime import datetime\n",
    "from bs4 import BeautifulSoup \n",
    "import xlsxwriter as xl\n",
    "import requests\n",
    "import csv"
   ]
  },
  {
   "cell_type": "code",
   "execution_count": 123,
   "metadata": {},
   "outputs": [],
   "source": [
    "#Funcion de llenar una pagina datos\n",
    "def FillData(articles):\n",
    "    #data = [['Oferta','URL','Empresa','Calificación','Ubicación','FechaBusqueda','TiempoPublicación']]\n",
    "    dataout = []\n",
    "    for article in articles:\n",
    "            try: workOffer = article.find('h1',class_=\"fs18 fwB\").text\n",
    "            except: workOffer = \"\"\n",
    "            try: workUrl = \"https://www.computrabajo.com.pe/\"+article.select('a[href]')[0]['href']\n",
    "            except: workUrl = \"\"\n",
    "            try: workBusiness = article.find('a',class_=\"fc_base hover it-blank\").text\n",
    "            except: workBusiness = \"\"\n",
    "            try: workStart = float(article.find('span',class_=\"ml10 mr10\").text.split()[1].replace(\",\",\".\"))\n",
    "            except: workStart = 0\n",
    "            try:\n",
    "                txt = article.find('p', class_=\"fs16 fc_base mt5 mb10\")\n",
    "                workLocation = txt.text.split()[-2]+\" \"+ txt.text.split()[-1]\n",
    "            except : workLocation = \"\"\n",
    "            try :\n",
    "                workDateSeach = datetime.today().strftime('%d/%m/%Y')\n",
    "                workTime = article.find('p',class_=\"fs13 fc_aux\").text\n",
    "            except: \n",
    "                workDateSeach = \"\"\n",
    "                workTime = \"\"\n",
    "            dataout.append([workOffer,workUrl,workBusiness,workStart,workLocation,workDateSeach,workTime])\n",
    "    #print(f\"tamDataPagina: {len(dataout)}\")\n",
    "    return dataout"
   ]
  },
  {
   "cell_type": "code",
   "execution_count": 124,
   "metadata": {},
   "outputs": [],
   "source": [
    "#Funcion llenar todas\n",
    "def SeachAll(NombreTrabajo,LugarTrabajo,NumeroPagsBusqueda):\n",
    "    Data = [['Oferta','URL','Empresa','Calificación','Ubicación','FechaBusqueda','TiempoPublicación']]\n",
    "    #print(f\"Numero de SeachAll: {NumeroPagsBusqueda}\")\n",
    "    for i in range(NumeroPagsBusqueda):\n",
    "        print(f\"Busqueda en pag: {i+1}\")\n",
    "        page = requests.get(f\"https://www.computrabajo.com.pe/trabajo-de-{NombreTrabajo}-en-{LugarTrabajo}?by=publicationtime&p={i+1}\")\n",
    "        doc = BeautifulSoup(page.content,'html.parser')\n",
    "        articles = doc.find_all('article')\n",
    "        #print(f\"tamaño articles: {len(articles)}\")\n",
    "        #Data = Data + FillData(articles)\n",
    "        Data.extend(FillData(articles))\n",
    "        #print(f\"tamaño DATA: {len(Data)}\")\n",
    "        articles = []\n",
    "    return Data"
   ]
  },
  {
   "cell_type": "code",
   "execution_count": 125,
   "metadata": {},
   "outputs": [],
   "source": [
    "#Funcion Guardar CSV\n",
    "def Guardar_csv(nombre,data):\n",
    "    with open(f'{nombre}.csv', 'w', encoding='utf-8',newline = '') as file:\n",
    "        writer = csv.writer(file)\n",
    "        for dat in data:\n",
    "            writer.writerow(dat)\n",
    "    print(\"\\nDatos CSV Guardados!\")"
   ]
  },
  {
   "cell_type": "code",
   "execution_count": 126,
   "metadata": {},
   "outputs": [],
   "source": [
    "#Funcion Guardar xlsx\n",
    "def Guardar_xlsx(nombre, datos):\n",
    "    archivo = xl.Workbook(f'{nombre}.xlsx')\n",
    "    hoja,tam = archivo.add_worksheet(), len(datos)\n",
    "    for j in range(tam):\n",
    "        for i in range(len(datos[j])):\n",
    "            hoja.write(j,i,datos[j][i])\n",
    "    archivo.close()\n",
    "    print(\"\\nDatos EXCEL Guardados!\")\n",
    "    "
   ]
  },
  {
   "cell_type": "code",
   "execution_count": 137,
   "metadata": {},
   "outputs": [
    {
     "name": "stdout",
     "output_type": "stream",
     "text": [
      "Escriba el trabajo que busca: data\n",
      "Escriba el lugar de trabajo: callao\n",
      "\n",
      "Se encontro 28 trabajos!\n",
      "En 2 Paginas de Computrabajo!\n",
      "Busqueda en pag: 1\n",
      "Busqueda en pag: 2\n",
      "Ingrese que nombre tendran los archivos : jobs_in_data\n",
      "\n",
      "Datos CSV Guardados!\n",
      "\n",
      "Datos EXCEL Guardados!\n"
     ]
    }
   ],
   "source": [
    "#Programa Principal!\n",
    "##############################\n",
    "NombreTrabajo = input(\"Escriba el trabajo que busca: \").lower().replace(\" \",\"-\")\n",
    "while not NombreTrabajo : NombreTrabajo = input(\"Escriba UN TRABAJO!\\nIngrese trabajo otra vez: \").lower().replace(\" \",\"-\")\n",
    "LugarTrabajo = input(\"Escriba el lugar de trabajo: \").lower().replace(\" \",\"-\")\n",
    "#url = f\"https://www.computrabajo.com.pe/trabajo-de-{NombreTrabajo}-en-{LugarTrabajo}?by=publicationtime&p={NumeroPagsBusqueda}\"\n",
    "url = f\"https://www.computrabajo.com.pe/trabajo-de-{NombreTrabajo}-en-{LugarTrabajo}?by=publicationtime\"\n",
    "page = requests.get(url)\n",
    "data,nombre = [], \"\"\n",
    "#Generar los datos\n",
    "try:\n",
    "    document = BeautifulSoup(page.content,'html.parser')\n",
    "    try : \n",
    "        numero = int(document.find('span', class_=\"fwB mr5\").text.split()[0])\n",
    "        if numero > 0 : print(f\"\\nSe encontro {numero} trabajos!\")\n",
    "        NumeroPagsBusqueda = (numero // 20) + 1\n",
    "        print(f\"En {NumeroPagsBusqueda} Paginas de Computrabajo!\")\n",
    "        #NumeroPagsBusqueda = int(input(\"Escriba cuantas paginas quiere buscar: \"))\n",
    "        #while NumeroPagsBusqueda < 0 : NumeroPagsBusqueda = int(input(\"Numero de paginas debe ser POSITIVO!\\nEscriba cuantas paginas de nuevo: \"))\n",
    "        data = SeachAll(NombreTrabajo,LugarTrabajo,NumeroPagsBusqueda)\n",
    "        #print(data)\n",
    "        #Guardando Datos\n",
    "        nombre = input(\"Ingrese que nombre tendran los archivos : \")\n",
    "        Guardar_csv(nombre,data)\n",
    "        Guardar_xlsx(nombre, data)\n",
    "    except : print(\"Algo a fallado, o no se a encontrado :(\")\n",
    "except requests.exceptions.HTTPError as e:  \n",
    "    print(\"Error: \" + str(e)+\"\\nError en la Busqueda:(\")\n"
   ]
  }
 ],
 "metadata": {
  "kernelspec": {
   "display_name": "Python 3",
   "language": "python",
   "name": "python3"
  },
  "language_info": {
   "codemirror_mode": {
    "name": "ipython",
    "version": 3
   },
   "file_extension": ".py",
   "mimetype": "text/x-python",
   "name": "python",
   "nbconvert_exporter": "python",
   "pygments_lexer": "ipython3",
   "version": "3.8.5"
  }
 },
 "nbformat": 4,
 "nbformat_minor": 4
}
